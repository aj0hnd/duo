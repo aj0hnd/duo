{
 "cells": [
  {
   "cell_type": "code",
   "execution_count": 90,
   "id": "c061c331",
   "metadata": {},
   "outputs": [],
   "source": [
    "import torch\n",
    "import torch.nn.functional as F\n",
    "\n",
    "from tqdm import tqdm\n",
    "from peft import LoraConfig\n",
    "from dataset import InputPipelineBuilder\n",
    "from diffusers import StableDiffusionPipeline, DDPMScheduler"
   ]
  },
  {
   "cell_type": "code",
   "execution_count": 55,
   "id": "b57d6dc7",
   "metadata": {},
   "outputs": [],
   "source": [
    "EPOCHS = 5\n",
    "LR, RANK, BETA, LAMBDA = 3e-4, 32, 250, 1e6\n",
    "\n",
    "LR = LR * (100 / BETA)\n",
    "LAMBDA = LAMBDA * BETA / 100\n",
    "\n",
    "device = 'cuda' if torch.cuda.is_available() else 'cpu'\n",
    "weight_dtype = torch.float32"
   ]
  },
  {
   "cell_type": "code",
   "execution_count": 56,
   "id": "0bd6701c",
   "metadata": {},
   "outputs": [],
   "source": [
    "input_pipeline_builder = InputPipelineBuilder()\n",
    "\n",
    "train_dataloader = input_pipeline_builder.get_dataloader(subset='train', shuffle=True)\n",
    "valid_dataloader = input_pipeline_builder.get_dataloader(subset='valid')\n",
    "test_dataloader = input_pipeline_builder.get_dataloader(subset='test')"
   ]
  },
  {
   "cell_type": "code",
   "execution_count": 57,
   "id": "5c5af53a",
   "metadata": {},
   "outputs": [
    {
     "name": "stderr",
     "output_type": "stream",
     "text": [
      "Loading pipeline components...: 100%|██████████| 7/7 [00:00<00:00, 25.99it/s]\n"
     ]
    }
   ],
   "source": [
    "pipe = StableDiffusionPipeline.from_pretrained(\n",
    "    \"CompVis/stable-diffusion-v1-4\",\n",
    "    torch_dtype=weight_dtype\n",
    ").to(device)"
   ]
  },
  {
   "cell_type": "code",
   "execution_count": 88,
   "id": "db047fb1",
   "metadata": {},
   "outputs": [
    {
     "name": "stdout",
     "output_type": "stream",
     "text": [
      "\n"
     ]
    }
   ],
   "source": [
    "vae = pipe.vae\n",
    "unet = pipe.unet\n",
    "base_unet = pipe.unet\n",
    "text_encoder = pipe.text_encoder\n",
    "noise_scheduler = DDPMScheduler.from_config(pipe.scheduler.config)\n",
    "\n",
    "vae.requires_grad_(False)\n",
    "unet.requires_grad_(False)\n",
    "base_unet.requires_grad_(False)\n",
    "text_encoder.requires_grad_(False)\n",
    "print()"
   ]
  },
  {
   "cell_type": "code",
   "execution_count": 59,
   "id": "95e43cfc",
   "metadata": {},
   "outputs": [],
   "source": [
    "target_modules = ['attn1.to_q', 'attn1.to_k', 'attn1.to_v', 'att1n.to_out.0']\n",
    "unet_lora_config = LoraConfig(\n",
    "    r=RANK,\n",
    "    lora_alpha=RANK,\n",
    "    init_lora_weights='gaussian',\n",
    "    target_modules=target_modules\n",
    ")\n",
    "unet.add_adapter(unet_lora_config)\n",
    "lora_parameters = list(filter(lambda p: p.requires_grad, unet.parameters()))"
   ]
  },
  {
   "cell_type": "code",
   "execution_count": 60,
   "id": "e8f4850d",
   "metadata": {},
   "outputs": [],
   "source": [
    "optimizer = torch.optim.Adam(\n",
    "    params=lora_parameters,\n",
    "    lr=LR,\n",
    "    weight_decay=1e-2\n",
    ")\n",
    "\n",
    "constant_scheduler = torch.optim.lr_scheduler.ConstantLR(\n",
    "    optimizer=optimizer,\n",
    "    factor=1.0,\n",
    "    total_iters=2,\n",
    ")\n",
    "linear_scheduler = torch.optim.lr_scheduler.PolynomialLR(\n",
    "    optimizer=optimizer, \n",
    "    total_iters=5,\n",
    "    power=1.0\n",
    ")\n",
    "lr_scheduler = torch.optim.lr_scheduler.SequentialLR(\n",
    "    optimizer=optimizer, \n",
    "    schedulers=[constant_scheduler, linear_scheduler],\n",
    "    milestones=[2]\n",
    ")"
   ]
  },
  {
   "cell_type": "code",
   "execution_count": null,
   "id": "22b9b8ae",
   "metadata": {},
   "outputs": [],
   "source": [
    "for epoch in range(EPOCHS):\n",
    "    unet.train()\n",
    "    for image_batch in tqdm(train_dataloader):\n",
    "        safe_prompt = image_batch['safe_prompt']\n",
    "        unsafe_prompt = image_batch['unsafe_prompt']\n",
    "        \n",
    "        safe_image = image_batch['safe_image'].to(device)\n",
    "        unsafe_image = image_batch['unsafe_image'].to(device)\n",
    "        \n",
    "        with torch.no_grad():\n",
    "            prompt_embed_safe = pipe.encode_prompt(\n",
    "                safe_prompt,\n",
    "                device=vae.device,\n",
    "                num_images_per_prompt=1,\n",
    "                do_classifier_free_guidance=False\n",
    "            )\n",
    "            prompt_embed_unsafe = pipe.encode_prompt(\n",
    "                unsafe_prompt, \n",
    "                device=vae.device,\n",
    "                num_images_per_prompt=1,\n",
    "                do_classifier_free_guidance=False\n",
    "            )\n",
    "            si_latent = vae.encode(safe_image).latent_dist.sample() * vae.config.scaling_factor\n",
    "            usi_latent = vae.encode(unsafe_image).latent_dist.sample() * vae.config.scalig_factor\n",
    "            \n",
    "        timestep = torch.randint(0, noise_scheduler.config.num_train_timesteps, size=(si_latent.shape[0],), device=vae.device).long()\n",
    "        noise = torch.randn_like(si_latent)\n",
    "        noised_si_latent = noise_scheduler.add_noise(si_latent, noise, timestep)\n",
    "        noised_usi_latent = noise_scheduler.add_noise(usi_latent, noise, timestep)\n",
    "        \n",
    "        prior_latent = torch.randn_like(si_latent)\n",
    "        prior_timestep = torch.full(size=(si_latent.shape[0],), fill_value=999, device=device, dtype=torch.long)\n",
    "\n",
    "        pred_safe_unlearned = unet(noised_si_latent, timestep, prompt_embed_safe).sample\n",
    "        pred_unsafe_unlearned = unet(noised_usi_latent, timestep, prompt_embed_unsafe).sample\n",
    "        pred_prior_unlearned = unet(prior_latent, prior_timestep, prompt_embed_safe).sample\n",
    "        with torch.no_grad():\n",
    "            pred_safe_base = base_unet(noised_si_latent, timestep, prompt_embed_safe).sample \n",
    "            pred_unsafe_base = base_unet(noised_usi_latent, timestep, prompt_embed_unsafe).sample\n",
    "            pred_prior_base = base_unet(prior_latent, prior_timestep, prompt_embed_safe).sample\n",
    "        \n",
    "        loss_safe_unlearned = F.mse_loss(pred_safe_unlearned, noise, reduction='none').mean(dim=[1, 2, 3])  \n",
    "        loss_unsafe_unlearned = F.mse_loss(pred_unsafe_unlearned, noise, reduction='none').mean(dim=[1, 2, 3]) \n",
    "        loss_safe_base = F.mse_loss(pred_safe_base, noise, reduction='none').mean(dim=[1, 2, 3])\n",
    "        loss_unsafe_base = F.mse_loss(pred_unsafe_base, noise, reduction='none').mean(dim=[1, 2, 3])\n",
    "        \n",
    "        loss = loss_safe_unlearned - loss_safe_base - loss_unsafe_unlearned + loss_unsafe_base\n",
    "        loss = -1 * F.logsigmoid(-1 * BETA * loss)\n",
    "        loss = loss.mean()\n",
    "        \n",
    "        prior_loss = F.mse_loss(pred_prior_unlearned, pred_prior_base, reduction='mean')\n",
    "        loss += LAMBDA * prior_loss\n",
    "        \n",
    "        optimizer.zero_grad()\n",
    "        loss.backward()\n",
    "        optimizer.step()\n",
    "        lr_scheduler.step()"
   ]
  },
  {
   "cell_type": "code",
   "execution_count": null,
   "id": "5e2123ef",
   "metadata": {},
   "outputs": [],
   "source": [
    "unet.save_lora_adapter('./pretrained_unet_only_lora_250')"
   ]
  }
 ],
 "metadata": {
  "kernelspec": {
   "display_name": "genenv",
   "language": "python",
   "name": "python3"
  },
  "language_info": {
   "codemirror_mode": {
    "name": "ipython",
    "version": 3
   },
   "file_extension": ".py",
   "mimetype": "text/x-python",
   "name": "python",
   "nbconvert_exporter": "python",
   "pygments_lexer": "ipython3",
   "version": "3.11.7"
  }
 },
 "nbformat": 4,
 "nbformat_minor": 5
}
