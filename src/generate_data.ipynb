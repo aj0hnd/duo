{
 "cells": [
  {
   "cell_type": "code",
   "execution_count": null,
   "metadata": {
    "colab": {
     "base_uri": "https://localhost:8080/"
    },
    "collapsed": true,
    "executionInfo": {
     "elapsed": 6557,
     "status": "ok",
     "timestamp": 1746868105364,
     "user": {
      "displayName": "안종현",
      "userId": "02586793844340326477"
     },
     "user_tz": -540
    },
    "id": "axro8rKdTHHe",
    "outputId": "3e8e7a0f-ba88-4b51-b24e-55b0a042da3b"
   },
   "outputs": [],
   "source": [
    "! pip install diffusers nudenet"
   ]
  },
  {
   "cell_type": "code",
   "execution_count": null,
   "metadata": {
    "colab": {
     "base_uri": "https://localhost:8080/"
    },
    "executionInfo": {
     "elapsed": 1327,
     "status": "ok",
     "timestamp": 1746869564287,
     "user": {
      "displayName": "안종현",
      "userId": "02586793844340326477"
     },
     "user_tz": -540
    },
    "id": "ipjfYNDrUzvs",
    "outputId": "a027d4fb-6c31-47eb-c464-161f2a89eb8b"
   },
   "outputs": [],
   "source": [
    "from google.colab import drive\n",
    "drive.mount('/content/drive')\n",
    "\n",
    "%cd /content/drive/MyDrive/duo/"
   ]
  },
  {
   "cell_type": "code",
   "execution_count": null,
   "metadata": {
    "colab": {
     "base_uri": "https://localhost:8080/",
     "height": 81,
     "referenced_widgets": [
      "532da49f4ac14e6cad44b4a2dabea68f",
      "6cef25cb201a4ec693f8bbf08a41bd53",
      "2e9e7df38fb74696b8fcb4f34ced9bad",
      "3105d12448db4ccaa1e2e55ac517e93e",
      "a34db21bd9584d3cb3b7576e064108e7",
      "e953992b45e54d0d85d1aaeea44caf60",
      "63e9802e450c42c1acf797cf6c113680",
      "5e134726f1b5438ea1cdab676b3819f0",
      "a6040aed75654166975c27d8f000ff3c",
      "fe5fd85b1a4f4faeb9dceede3b5e9d90",
      "1edbb7225c334355899884b5db918be9",
      "fe85eb253e564eaa8da5c1794112f945",
      "578958c6beff4c68ad98bc9679d75b8d",
      "6f6bff336a9c4667bbdb1297191ae88a",
      "49a2781acaf24653bc2e0fd76fed01d3",
      "46e6284ca05e46409bcde55b382ea6ac",
      "f41e544f914f4693b7c05e9bf206213f",
      "5fac6d674f9a440bae73e050f8bd0c85",
      "57358d37ea624005a7447060d9780096",
      "e1b006b5044c479c86195c56698d30b4",
      "fd02978dd201412caae2a04ecaad9c82",
      "c99ccc10164140a09702b3a5aa8382ad"
     ]
    },
    "collapsed": true,
    "executionInfo": {
     "elapsed": 52429,
     "status": "ok",
     "timestamp": 1746869558514,
     "user": {
      "displayName": "안종현",
      "userId": "02586793844340326477"
     },
     "user_tz": -540
    },
    "id": "uNXopGofUpV3",
    "outputId": "aacf231d-f114-4299-af9d-363112a321e7"
   },
   "outputs": [],
   "source": [
    "import os\n",
    "import torch\n",
    "import torch.nn\n",
    "import numpy as np\n",
    "import matplotlib.pyplot as plt\n",
    "from tqdm import tqdm\n",
    "from diffusers import StableDiffusionPipeline, StableDiffusionImg2ImgPipeline\n",
    "from peft import PeftModel, LoraConfig\n",
    "from nudenet import NudeDetector\n",
    "\n",
    "nude_detector = NudeDetector()\n",
    "\n",
    "pipe = StableDiffusionPipeline.from_pretrained(\"CompVis/stable-diffusion-v1-4\", torch_dtype=torch.float16).to('cuda')\n",
    "pipe.requires_safety_checker = False\n",
    "pipe.safety_checker = None\n",
    "pipe.set_progress_bar_config(disable=True)\n",
    "\n",
    "pipe2 = StableDiffusionImg2ImgPipeline.from_pretrained(\"CompVis/stable-diffusion-v1-4\", torch_dtype=torch.float16).to('cuda')\n",
    "pipe2.requires_safety_checker = False\n",
    "pipe2.safety_checker = None\n",
    "pipe2.set_progress_bar_config(disable=True)"
   ]
  },
  {
   "cell_type": "code",
   "execution_count": 1,
   "metadata": {
    "executionInfo": {
     "elapsed": 4,
     "status": "ok",
     "timestamp": 1746871223168,
     "user": {
      "displayName": "안종현",
      "userId": "02586793844340326477"
     },
     "user_tz": -540
    },
    "id": "5tIjiOkLV5Sy"
   },
   "outputs": [],
   "source": [
    "safe_prompt = ['a dressed white woman, realistic photo', 'a dressed black woman, realistic photo']\n",
    "unsafe_prompt = ['a nacked white woman, realistic photo', 'a nacked black woman, realistic photo']\n",
    "\n",
    "unsafe_labels = [\n",
    "    \"FEMALE_BREAST_EXPOSED\",\n",
    "    \"FEMALE_GENITALIA_EXPOSED\",\n",
    "    \"ANUS_EXPOSED\",\n",
    "    \"MALE_GENITALIA_EXPOSED\"\n",
    "    ]"
   ]
  },
  {
   "cell_type": "code",
   "execution_count": null,
   "metadata": {
    "id": "IG2i6ue9WAE3"
   },
   "outputs": [],
   "source": [
    "unsafe_image = pipe(unsafe_prompt[0]).images[0]\n",
    "retained_image = pipe2(prompt=safe_prompt[0], negative_prompt=unsafe_prompt[0], image=unsafe_image, strength=0.75, guidance_scale=7.5).images[0]\n",
    "\n",
    "fig, ax = plt.subplots(1, 2, figsize=(10, 5))\n",
    "ax[0].imshow(unsafe_image)\n",
    "ax[0].set_title('Unsafe Image')\n",
    "ax[1].imshow(retained_image)\n",
    "ax[1].set_title('Retained Image')"
   ]
  },
  {
   "cell_type": "code",
   "execution_count": 109,
   "metadata": {
    "executionInfo": {
     "elapsed": 3,
     "status": "ok",
     "timestamp": 1746871221447,
     "user": {
      "displayName": "안종현",
      "userId": "02586793844340326477"
     },
     "user_tz": -540
    },
    "id": "l1fWL9tgeJXd"
   },
   "outputs": [],
   "source": [
    "def is_unsafe(image):\n",
    "  result = nude_detector.detect(np.array(image))\n",
    "  for item in result:\n",
    "    if item['class'] in unsafe_labels:\n",
    "      return True\n",
    "  return False"
   ]
  },
  {
   "cell_type": "code",
   "execution_count": 108,
   "metadata": {
    "executionInfo": {
     "elapsed": 47,
     "status": "ok",
     "timestamp": 1746871220215,
     "user": {
      "displayName": "안종현",
      "userId": "02586793844340326477"
     },
     "user_tz": -540
    },
    "id": "OF5hSwHidfns"
   },
   "outputs": [],
   "source": [
    "def make_nudity_pair_image(safe_prompt, unsafe_prompt, num_images=64, start_idx=0, image_dir='./data/nudity/'):\n",
    "\n",
    "  for i in tqdm(range(num_images)):\n",
    "    while True:\n",
    "      unsafe_image = pipe(unsafe_prompt).images[0]\n",
    "      if not is_unsafe(unsafe_image): continue\n",
    "      else: break\n",
    "\n",
    "    while True:\n",
    "      safe_image = pipe2(prompt=safe_prompt, negative_prompt=unsafe_prompt, image=unsafe_image, strength=0.75, guidance_scale=7.5).images[0]\n",
    "      if is_unsafe(safe_image): continue\n",
    "      else:\n",
    "        unsafe_image.save(os.path.join(image_dir, 'unsafe', f'unsafe_{start_idx+i}.png'))\n",
    "        safe_image.save(os.path.join(image_dir, 'safe', f'safe_{start_idx+i}.png'))\n",
    "        break\n",
    "\n",
    "  print(f'\\nGenerated {num_images}')\n",
    "  return\n"
   ]
  },
  {
   "cell_type": "code",
   "execution_count": null,
   "metadata": {
    "colab": {
     "base_uri": "https://localhost:8080/"
    },
    "executionInfo": {
     "elapsed": 1987626,
     "status": "ok",
     "timestamp": 1746873217274,
     "user": {
      "displayName": "안종현",
      "userId": "02586793844340326477"
     },
     "user_tz": -540
    },
    "id": "Zf1bmmLodpxK",
    "outputId": "42f8cba8-0113-43fb-9482-1a7c6ad4bfe4"
   },
   "outputs": [],
   "source": [
    "for i in range(len(safe_prompt)):\n",
    "    make_nudity_pair_image(safe_prompt=safe_prompt[i], unsafe_prompt=unsafe_prompt[i], num_images=128//len(safe_prompt), start_idx=i*64)"
   ]
  }
 ],
 "metadata": {
  "accelerator": "GPU",
  "colab": {
   "authorship_tag": "ABX9TyNmm4c73DZFCL6/PYntTzhB",
   "gpuType": "T4",
   "provenance": []
  },
  "kernelspec": {
   "display_name": "genenv",
   "language": "python",
   "name": "python3"
  },
  "language_info": {
   "codemirror_mode": {
    "name": "ipython",
    "version": 3
   },
   "file_extension": ".py",
   "mimetype": "text/x-python",
   "name": "python",
   "nbconvert_exporter": "python",
   "pygments_lexer": "ipython3",
   "version": "3.11.7"
  },
  "widgets": {
   "application/vnd.jupyter.widget-state+json": {
    "1edbb7225c334355899884b5db918be9": {
     "model_module": "@jupyter-widgets/controls",
     "model_module_version": "1.5.0",
     "model_name": "DescriptionStyleModel",
     "state": {
      "_model_module": "@jupyter-widgets/controls",
      "_model_module_version": "1.5.0",
      "_model_name": "DescriptionStyleModel",
      "_view_count": null,
      "_view_module": "@jupyter-widgets/base",
      "_view_module_version": "1.2.0",
      "_view_name": "StyleView",
      "description_width": ""
     }
    },
    "2e9e7df38fb74696b8fcb4f34ced9bad": {
     "model_module": "@jupyter-widgets/controls",
     "model_module_version": "1.5.0",
     "model_name": "FloatProgressModel",
     "state": {
      "_dom_classes": [],
      "_model_module": "@jupyter-widgets/controls",
      "_model_module_version": "1.5.0",
      "_model_name": "FloatProgressModel",
      "_view_count": null,
      "_view_module": "@jupyter-widgets/controls",
      "_view_module_version": "1.5.0",
      "_view_name": "ProgressView",
      "bar_style": "success",
      "description": "",
      "description_tooltip": null,
      "layout": "IPY_MODEL_5e134726f1b5438ea1cdab676b3819f0",
      "max": 7,
      "min": 0,
      "orientation": "horizontal",
      "style": "IPY_MODEL_a6040aed75654166975c27d8f000ff3c",
      "value": 7
     }
    },
    "3105d12448db4ccaa1e2e55ac517e93e": {
     "model_module": "@jupyter-widgets/controls",
     "model_module_version": "1.5.0",
     "model_name": "HTMLModel",
     "state": {
      "_dom_classes": [],
      "_model_module": "@jupyter-widgets/controls",
      "_model_module_version": "1.5.0",
      "_model_name": "HTMLModel",
      "_view_count": null,
      "_view_module": "@jupyter-widgets/controls",
      "_view_module_version": "1.5.0",
      "_view_name": "HTMLView",
      "description": "",
      "description_tooltip": null,
      "layout": "IPY_MODEL_fe5fd85b1a4f4faeb9dceede3b5e9d90",
      "placeholder": "​",
      "style": "IPY_MODEL_1edbb7225c334355899884b5db918be9",
      "value": " 7/7 [00:25&lt;00:00,  3.38s/it]"
     }
    },
    "46e6284ca05e46409bcde55b382ea6ac": {
     "model_module": "@jupyter-widgets/base",
     "model_module_version": "1.2.0",
     "model_name": "LayoutModel",
     "state": {
      "_model_module": "@jupyter-widgets/base",
      "_model_module_version": "1.2.0",
      "_model_name": "LayoutModel",
      "_view_count": null,
      "_view_module": "@jupyter-widgets/base",
      "_view_module_version": "1.2.0",
      "_view_name": "LayoutView",
      "align_content": null,
      "align_items": null,
      "align_self": null,
      "border": null,
      "bottom": null,
      "display": null,
      "flex": null,
      "flex_flow": null,
      "grid_area": null,
      "grid_auto_columns": null,
      "grid_auto_flow": null,
      "grid_auto_rows": null,
      "grid_column": null,
      "grid_gap": null,
      "grid_row": null,
      "grid_template_areas": null,
      "grid_template_columns": null,
      "grid_template_rows": null,
      "height": null,
      "justify_content": null,
      "justify_items": null,
      "left": null,
      "margin": null,
      "max_height": null,
      "max_width": null,
      "min_height": null,
      "min_width": null,
      "object_fit": null,
      "object_position": null,
      "order": null,
      "overflow": null,
      "overflow_x": null,
      "overflow_y": null,
      "padding": null,
      "right": null,
      "top": null,
      "visibility": null,
      "width": null
     }
    },
    "49a2781acaf24653bc2e0fd76fed01d3": {
     "model_module": "@jupyter-widgets/controls",
     "model_module_version": "1.5.0",
     "model_name": "HTMLModel",
     "state": {
      "_dom_classes": [],
      "_model_module": "@jupyter-widgets/controls",
      "_model_module_version": "1.5.0",
      "_model_name": "HTMLModel",
      "_view_count": null,
      "_view_module": "@jupyter-widgets/controls",
      "_view_module_version": "1.5.0",
      "_view_name": "HTMLView",
      "description": "",
      "description_tooltip": null,
      "layout": "IPY_MODEL_fd02978dd201412caae2a04ecaad9c82",
      "placeholder": "​",
      "style": "IPY_MODEL_c99ccc10164140a09702b3a5aa8382ad",
      "value": " 7/7 [00:25&lt;00:00,  3.36s/it]"
     }
    },
    "532da49f4ac14e6cad44b4a2dabea68f": {
     "model_module": "@jupyter-widgets/controls",
     "model_module_version": "1.5.0",
     "model_name": "HBoxModel",
     "state": {
      "_dom_classes": [],
      "_model_module": "@jupyter-widgets/controls",
      "_model_module_version": "1.5.0",
      "_model_name": "HBoxModel",
      "_view_count": null,
      "_view_module": "@jupyter-widgets/controls",
      "_view_module_version": "1.5.0",
      "_view_name": "HBoxView",
      "box_style": "",
      "children": [
       "IPY_MODEL_6cef25cb201a4ec693f8bbf08a41bd53",
       "IPY_MODEL_2e9e7df38fb74696b8fcb4f34ced9bad",
       "IPY_MODEL_3105d12448db4ccaa1e2e55ac517e93e"
      ],
      "layout": "IPY_MODEL_a34db21bd9584d3cb3b7576e064108e7"
     }
    },
    "57358d37ea624005a7447060d9780096": {
     "model_module": "@jupyter-widgets/base",
     "model_module_version": "1.2.0",
     "model_name": "LayoutModel",
     "state": {
      "_model_module": "@jupyter-widgets/base",
      "_model_module_version": "1.2.0",
      "_model_name": "LayoutModel",
      "_view_count": null,
      "_view_module": "@jupyter-widgets/base",
      "_view_module_version": "1.2.0",
      "_view_name": "LayoutView",
      "align_content": null,
      "align_items": null,
      "align_self": null,
      "border": null,
      "bottom": null,
      "display": null,
      "flex": null,
      "flex_flow": null,
      "grid_area": null,
      "grid_auto_columns": null,
      "grid_auto_flow": null,
      "grid_auto_rows": null,
      "grid_column": null,
      "grid_gap": null,
      "grid_row": null,
      "grid_template_areas": null,
      "grid_template_columns": null,
      "grid_template_rows": null,
      "height": null,
      "justify_content": null,
      "justify_items": null,
      "left": null,
      "margin": null,
      "max_height": null,
      "max_width": null,
      "min_height": null,
      "min_width": null,
      "object_fit": null,
      "object_position": null,
      "order": null,
      "overflow": null,
      "overflow_x": null,
      "overflow_y": null,
      "padding": null,
      "right": null,
      "top": null,
      "visibility": null,
      "width": null
     }
    },
    "578958c6beff4c68ad98bc9679d75b8d": {
     "model_module": "@jupyter-widgets/controls",
     "model_module_version": "1.5.0",
     "model_name": "HTMLModel",
     "state": {
      "_dom_classes": [],
      "_model_module": "@jupyter-widgets/controls",
      "_model_module_version": "1.5.0",
      "_model_name": "HTMLModel",
      "_view_count": null,
      "_view_module": "@jupyter-widgets/controls",
      "_view_module_version": "1.5.0",
      "_view_name": "HTMLView",
      "description": "",
      "description_tooltip": null,
      "layout": "IPY_MODEL_f41e544f914f4693b7c05e9bf206213f",
      "placeholder": "​",
      "style": "IPY_MODEL_5fac6d674f9a440bae73e050f8bd0c85",
      "value": "Loading pipeline components...: 100%"
     }
    },
    "5e134726f1b5438ea1cdab676b3819f0": {
     "model_module": "@jupyter-widgets/base",
     "model_module_version": "1.2.0",
     "model_name": "LayoutModel",
     "state": {
      "_model_module": "@jupyter-widgets/base",
      "_model_module_version": "1.2.0",
      "_model_name": "LayoutModel",
      "_view_count": null,
      "_view_module": "@jupyter-widgets/base",
      "_view_module_version": "1.2.0",
      "_view_name": "LayoutView",
      "align_content": null,
      "align_items": null,
      "align_self": null,
      "border": null,
      "bottom": null,
      "display": null,
      "flex": null,
      "flex_flow": null,
      "grid_area": null,
      "grid_auto_columns": null,
      "grid_auto_flow": null,
      "grid_auto_rows": null,
      "grid_column": null,
      "grid_gap": null,
      "grid_row": null,
      "grid_template_areas": null,
      "grid_template_columns": null,
      "grid_template_rows": null,
      "height": null,
      "justify_content": null,
      "justify_items": null,
      "left": null,
      "margin": null,
      "max_height": null,
      "max_width": null,
      "min_height": null,
      "min_width": null,
      "object_fit": null,
      "object_position": null,
      "order": null,
      "overflow": null,
      "overflow_x": null,
      "overflow_y": null,
      "padding": null,
      "right": null,
      "top": null,
      "visibility": null,
      "width": null
     }
    },
    "5fac6d674f9a440bae73e050f8bd0c85": {
     "model_module": "@jupyter-widgets/controls",
     "model_module_version": "1.5.0",
     "model_name": "DescriptionStyleModel",
     "state": {
      "_model_module": "@jupyter-widgets/controls",
      "_model_module_version": "1.5.0",
      "_model_name": "DescriptionStyleModel",
      "_view_count": null,
      "_view_module": "@jupyter-widgets/base",
      "_view_module_version": "1.2.0",
      "_view_name": "StyleView",
      "description_width": ""
     }
    },
    "63e9802e450c42c1acf797cf6c113680": {
     "model_module": "@jupyter-widgets/controls",
     "model_module_version": "1.5.0",
     "model_name": "DescriptionStyleModel",
     "state": {
      "_model_module": "@jupyter-widgets/controls",
      "_model_module_version": "1.5.0",
      "_model_name": "DescriptionStyleModel",
      "_view_count": null,
      "_view_module": "@jupyter-widgets/base",
      "_view_module_version": "1.2.0",
      "_view_name": "StyleView",
      "description_width": ""
     }
    },
    "6cef25cb201a4ec693f8bbf08a41bd53": {
     "model_module": "@jupyter-widgets/controls",
     "model_module_version": "1.5.0",
     "model_name": "HTMLModel",
     "state": {
      "_dom_classes": [],
      "_model_module": "@jupyter-widgets/controls",
      "_model_module_version": "1.5.0",
      "_model_name": "HTMLModel",
      "_view_count": null,
      "_view_module": "@jupyter-widgets/controls",
      "_view_module_version": "1.5.0",
      "_view_name": "HTMLView",
      "description": "",
      "description_tooltip": null,
      "layout": "IPY_MODEL_e953992b45e54d0d85d1aaeea44caf60",
      "placeholder": "​",
      "style": "IPY_MODEL_63e9802e450c42c1acf797cf6c113680",
      "value": "Loading pipeline components...: 100%"
     }
    },
    "6f6bff336a9c4667bbdb1297191ae88a": {
     "model_module": "@jupyter-widgets/controls",
     "model_module_version": "1.5.0",
     "model_name": "FloatProgressModel",
     "state": {
      "_dom_classes": [],
      "_model_module": "@jupyter-widgets/controls",
      "_model_module_version": "1.5.0",
      "_model_name": "FloatProgressModel",
      "_view_count": null,
      "_view_module": "@jupyter-widgets/controls",
      "_view_module_version": "1.5.0",
      "_view_name": "ProgressView",
      "bar_style": "success",
      "description": "",
      "description_tooltip": null,
      "layout": "IPY_MODEL_57358d37ea624005a7447060d9780096",
      "max": 7,
      "min": 0,
      "orientation": "horizontal",
      "style": "IPY_MODEL_e1b006b5044c479c86195c56698d30b4",
      "value": 7
     }
    },
    "a34db21bd9584d3cb3b7576e064108e7": {
     "model_module": "@jupyter-widgets/base",
     "model_module_version": "1.2.0",
     "model_name": "LayoutModel",
     "state": {
      "_model_module": "@jupyter-widgets/base",
      "_model_module_version": "1.2.0",
      "_model_name": "LayoutModel",
      "_view_count": null,
      "_view_module": "@jupyter-widgets/base",
      "_view_module_version": "1.2.0",
      "_view_name": "LayoutView",
      "align_content": null,
      "align_items": null,
      "align_self": null,
      "border": null,
      "bottom": null,
      "display": null,
      "flex": null,
      "flex_flow": null,
      "grid_area": null,
      "grid_auto_columns": null,
      "grid_auto_flow": null,
      "grid_auto_rows": null,
      "grid_column": null,
      "grid_gap": null,
      "grid_row": null,
      "grid_template_areas": null,
      "grid_template_columns": null,
      "grid_template_rows": null,
      "height": null,
      "justify_content": null,
      "justify_items": null,
      "left": null,
      "margin": null,
      "max_height": null,
      "max_width": null,
      "min_height": null,
      "min_width": null,
      "object_fit": null,
      "object_position": null,
      "order": null,
      "overflow": null,
      "overflow_x": null,
      "overflow_y": null,
      "padding": null,
      "right": null,
      "top": null,
      "visibility": null,
      "width": null
     }
    },
    "a6040aed75654166975c27d8f000ff3c": {
     "model_module": "@jupyter-widgets/controls",
     "model_module_version": "1.5.0",
     "model_name": "ProgressStyleModel",
     "state": {
      "_model_module": "@jupyter-widgets/controls",
      "_model_module_version": "1.5.0",
      "_model_name": "ProgressStyleModel",
      "_view_count": null,
      "_view_module": "@jupyter-widgets/base",
      "_view_module_version": "1.2.0",
      "_view_name": "StyleView",
      "bar_color": null,
      "description_width": ""
     }
    },
    "c99ccc10164140a09702b3a5aa8382ad": {
     "model_module": "@jupyter-widgets/controls",
     "model_module_version": "1.5.0",
     "model_name": "DescriptionStyleModel",
     "state": {
      "_model_module": "@jupyter-widgets/controls",
      "_model_module_version": "1.5.0",
      "_model_name": "DescriptionStyleModel",
      "_view_count": null,
      "_view_module": "@jupyter-widgets/base",
      "_view_module_version": "1.2.0",
      "_view_name": "StyleView",
      "description_width": ""
     }
    },
    "e1b006b5044c479c86195c56698d30b4": {
     "model_module": "@jupyter-widgets/controls",
     "model_module_version": "1.5.0",
     "model_name": "ProgressStyleModel",
     "state": {
      "_model_module": "@jupyter-widgets/controls",
      "_model_module_version": "1.5.0",
      "_model_name": "ProgressStyleModel",
      "_view_count": null,
      "_view_module": "@jupyter-widgets/base",
      "_view_module_version": "1.2.0",
      "_view_name": "StyleView",
      "bar_color": null,
      "description_width": ""
     }
    },
    "e953992b45e54d0d85d1aaeea44caf60": {
     "model_module": "@jupyter-widgets/base",
     "model_module_version": "1.2.0",
     "model_name": "LayoutModel",
     "state": {
      "_model_module": "@jupyter-widgets/base",
      "_model_module_version": "1.2.0",
      "_model_name": "LayoutModel",
      "_view_count": null,
      "_view_module": "@jupyter-widgets/base",
      "_view_module_version": "1.2.0",
      "_view_name": "LayoutView",
      "align_content": null,
      "align_items": null,
      "align_self": null,
      "border": null,
      "bottom": null,
      "display": null,
      "flex": null,
      "flex_flow": null,
      "grid_area": null,
      "grid_auto_columns": null,
      "grid_auto_flow": null,
      "grid_auto_rows": null,
      "grid_column": null,
      "grid_gap": null,
      "grid_row": null,
      "grid_template_areas": null,
      "grid_template_columns": null,
      "grid_template_rows": null,
      "height": null,
      "justify_content": null,
      "justify_items": null,
      "left": null,
      "margin": null,
      "max_height": null,
      "max_width": null,
      "min_height": null,
      "min_width": null,
      "object_fit": null,
      "object_position": null,
      "order": null,
      "overflow": null,
      "overflow_x": null,
      "overflow_y": null,
      "padding": null,
      "right": null,
      "top": null,
      "visibility": null,
      "width": null
     }
    },
    "f41e544f914f4693b7c05e9bf206213f": {
     "model_module": "@jupyter-widgets/base",
     "model_module_version": "1.2.0",
     "model_name": "LayoutModel",
     "state": {
      "_model_module": "@jupyter-widgets/base",
      "_model_module_version": "1.2.0",
      "_model_name": "LayoutModel",
      "_view_count": null,
      "_view_module": "@jupyter-widgets/base",
      "_view_module_version": "1.2.0",
      "_view_name": "LayoutView",
      "align_content": null,
      "align_items": null,
      "align_self": null,
      "border": null,
      "bottom": null,
      "display": null,
      "flex": null,
      "flex_flow": null,
      "grid_area": null,
      "grid_auto_columns": null,
      "grid_auto_flow": null,
      "grid_auto_rows": null,
      "grid_column": null,
      "grid_gap": null,
      "grid_row": null,
      "grid_template_areas": null,
      "grid_template_columns": null,
      "grid_template_rows": null,
      "height": null,
      "justify_content": null,
      "justify_items": null,
      "left": null,
      "margin": null,
      "max_height": null,
      "max_width": null,
      "min_height": null,
      "min_width": null,
      "object_fit": null,
      "object_position": null,
      "order": null,
      "overflow": null,
      "overflow_x": null,
      "overflow_y": null,
      "padding": null,
      "right": null,
      "top": null,
      "visibility": null,
      "width": null
     }
    },
    "fd02978dd201412caae2a04ecaad9c82": {
     "model_module": "@jupyter-widgets/base",
     "model_module_version": "1.2.0",
     "model_name": "LayoutModel",
     "state": {
      "_model_module": "@jupyter-widgets/base",
      "_model_module_version": "1.2.0",
      "_model_name": "LayoutModel",
      "_view_count": null,
      "_view_module": "@jupyter-widgets/base",
      "_view_module_version": "1.2.0",
      "_view_name": "LayoutView",
      "align_content": null,
      "align_items": null,
      "align_self": null,
      "border": null,
      "bottom": null,
      "display": null,
      "flex": null,
      "flex_flow": null,
      "grid_area": null,
      "grid_auto_columns": null,
      "grid_auto_flow": null,
      "grid_auto_rows": null,
      "grid_column": null,
      "grid_gap": null,
      "grid_row": null,
      "grid_template_areas": null,
      "grid_template_columns": null,
      "grid_template_rows": null,
      "height": null,
      "justify_content": null,
      "justify_items": null,
      "left": null,
      "margin": null,
      "max_height": null,
      "max_width": null,
      "min_height": null,
      "min_width": null,
      "object_fit": null,
      "object_position": null,
      "order": null,
      "overflow": null,
      "overflow_x": null,
      "overflow_y": null,
      "padding": null,
      "right": null,
      "top": null,
      "visibility": null,
      "width": null
     }
    },
    "fe5fd85b1a4f4faeb9dceede3b5e9d90": {
     "model_module": "@jupyter-widgets/base",
     "model_module_version": "1.2.0",
     "model_name": "LayoutModel",
     "state": {
      "_model_module": "@jupyter-widgets/base",
      "_model_module_version": "1.2.0",
      "_model_name": "LayoutModel",
      "_view_count": null,
      "_view_module": "@jupyter-widgets/base",
      "_view_module_version": "1.2.0",
      "_view_name": "LayoutView",
      "align_content": null,
      "align_items": null,
      "align_self": null,
      "border": null,
      "bottom": null,
      "display": null,
      "flex": null,
      "flex_flow": null,
      "grid_area": null,
      "grid_auto_columns": null,
      "grid_auto_flow": null,
      "grid_auto_rows": null,
      "grid_column": null,
      "grid_gap": null,
      "grid_row": null,
      "grid_template_areas": null,
      "grid_template_columns": null,
      "grid_template_rows": null,
      "height": null,
      "justify_content": null,
      "justify_items": null,
      "left": null,
      "margin": null,
      "max_height": null,
      "max_width": null,
      "min_height": null,
      "min_width": null,
      "object_fit": null,
      "object_position": null,
      "order": null,
      "overflow": null,
      "overflow_x": null,
      "overflow_y": null,
      "padding": null,
      "right": null,
      "top": null,
      "visibility": null,
      "width": null
     }
    },
    "fe85eb253e564eaa8da5c1794112f945": {
     "model_module": "@jupyter-widgets/controls",
     "model_module_version": "1.5.0",
     "model_name": "HBoxModel",
     "state": {
      "_dom_classes": [],
      "_model_module": "@jupyter-widgets/controls",
      "_model_module_version": "1.5.0",
      "_model_name": "HBoxModel",
      "_view_count": null,
      "_view_module": "@jupyter-widgets/controls",
      "_view_module_version": "1.5.0",
      "_view_name": "HBoxView",
      "box_style": "",
      "children": [
       "IPY_MODEL_578958c6beff4c68ad98bc9679d75b8d",
       "IPY_MODEL_6f6bff336a9c4667bbdb1297191ae88a",
       "IPY_MODEL_49a2781acaf24653bc2e0fd76fed01d3"
      ],
      "layout": "IPY_MODEL_46e6284ca05e46409bcde55b382ea6ac"
     }
    }
   }
  }
 },
 "nbformat": 4,
 "nbformat_minor": 0
}
